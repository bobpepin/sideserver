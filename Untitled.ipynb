{
 "cells": [
  {
   "cell_type": "code",
   "execution_count": 11,
   "metadata": {},
   "outputs": [],
   "source": [
    "import multiprocessing, multiprocessing.managers\n",
    "import uvicorn\n",
    "import asyncio\n",
    "import os\n",
    "import signal"
   ]
  },
  {
   "cell_type": "code",
   "execution_count": 40,
   "metadata": {},
   "outputs": [],
   "source": [
    "import importlib\n",
    "import asidecar\n",
    "asidecar = importlib.reload(asidecar)\n",
    "\n",
    "ctx = multiprocessing.get_context(\"spawn\")\n",
    "manager = multiprocessing.managers.SyncManager()\n",
    "manager.start(lambda: signal.signal(signal.SIGINT, signal.SIG_IGN))\n",
    "request_queue = manager.Queue()\n",
    "response_queue = manager.Queue()\n",
    "\n",
    "p = ctx.Process(target=asidecar.run, \n",
    "                args=[],\n",
    "                kwargs={\n",
    "                        \"request_queue\": request_queue,\n",
    "                        \"response_queue\": response_queue\n",
    "                       })\n",
    "p.daemon = True\n",
    "p.start()\n"
   ]
  },
  {
   "cell_type": "code",
   "execution_count": 8,
   "metadata": {},
   "outputs": [],
   "source": [
    "import os\n",
    "os.environ[\"PYTHONASYNCIODEBUG\"] = \"1\""
   ]
  },
  {
   "cell_type": "code",
   "execution_count": 12,
   "metadata": {},
   "outputs": [],
   "source": [
    "import importlib\n",
    "import asidecar\n",
    "asidecar = importlib.reload(asidecar)\n",
    "\n",
    "class SidecarServer:\n",
    "    def __init__(self):\n",
    "        self.request_queue = None\n",
    "        self.response_queue = None\n",
    "        \n",
    "    def start(self):\n",
    "        ctx = multiprocessing.get_context(\"spawn\")\n",
    "#         manager = multiprocessing.managers.SyncManager()\n",
    "#         manager.start(lambda: signal.signal(signal.SIGINT, signal.SIG_IGN))\n",
    "#         request_queue = manager.Queue()\n",
    "#         response_queue = manager.Queue()\n",
    "        self.request_main, self.request_side = multiprocessing.Pipe(False)\n",
    "        self.response_main, self.response_side = multiprocessing.Pipe(False)\n",
    "        process = ctx.Process(\n",
    "            target=asidecar.run,\n",
    "            kwargs={\"request_conn\": self.request_side,\n",
    "                    \"response_conn\": self.response_side}\n",
    "        )\n",
    "        process.daemon = True\n",
    "        process.start()\n",
    "#         self.manager = manager\n",
    "#         self.request_queue = request_queue\n",
    "#         self.response_queue = response_queue\n",
    "        self.process = process\n",
    "\n",
    "    def shutdown(self):\n",
    "        self.process.terminate()\n",
    "        self.request_main = self.request_side = None\n",
    "        self.response_main = self.response_side = None\n",
    "#         self.manager.shutdown()\n",
    "        \n",
    "    def __del__(self):\n",
    "        self.shutdown()\n",
    "        \n",
    "    def receive(self):\n",
    "        return self.request_main.get()"
   ]
  },
  {
   "cell_type": "code",
   "execution_count": 13,
   "metadata": {},
   "outputs": [],
   "source": [
    "server = SidecarServer()\n",
    "server.start()"
   ]
  },
  {
   "cell_type": "code",
   "execution_count": 14,
   "metadata": {},
   "outputs": [
    {
     "data": {
      "text/plain": [
       "{'id': 0, 'body': b'BLA'}"
      ]
     },
     "execution_count": 14,
     "metadata": {},
     "output_type": "execute_result"
    }
   ],
   "source": [
    "req = server.receive()\n",
    "req"
   ]
  },
  {
   "cell_type": "code",
   "execution_count": 15,
   "metadata": {},
   "outputs": [],
   "source": [
    "resp = {\"id\": req[\"id\"], \"body\": \"FOO\"}\n",
    "server.response_queue.put(resp)"
   ]
  },
  {
   "cell_type": "code",
   "execution_count": 16,
   "metadata": {},
   "outputs": [],
   "source": [
    "server.shutdown()"
   ]
  },
  {
   "cell_type": "code",
   "execution_count": 54,
   "metadata": {},
   "outputs": [],
   "source": [
    "server.manager.shutdown()"
   ]
  },
  {
   "cell_type": "code",
   "execution_count": 45,
   "metadata": {},
   "outputs": [],
   "source": [
    "os.kill(p.pid, signal.SIGTERM)"
   ]
  },
  {
   "cell_type": "code",
   "execution_count": 41,
   "metadata": {},
   "outputs": [
    {
     "data": {
      "text/plain": [
       "{'id': 0, 'body': b'BLA'}"
      ]
     },
     "execution_count": 41,
     "metadata": {},
     "output_type": "execute_result"
    }
   ],
   "source": [
    "req = request_queue.get()\n",
    "req"
   ]
  },
  {
   "cell_type": "code",
   "execution_count": 42,
   "metadata": {},
   "outputs": [],
   "source": []
  },
  {
   "cell_type": "code",
   "execution_count": 21,
   "metadata": {},
   "outputs": [],
   "source": [
    "send_conn.send({\"id\": 0, \"body\": \"FOO\"})"
   ]
  },
  {
   "cell_type": "code",
   "execution_count": 9,
   "metadata": {},
   "outputs": [
    {
     "data": {
      "text/plain": [
       "2"
      ]
     },
     "execution_count": 9,
     "metadata": {},
     "output_type": "execute_result"
    }
   ],
   "source": [
    "(lambda: 2)()"
   ]
  },
  {
   "cell_type": "code",
   "execution_count": 18,
   "metadata": {},
   "outputs": [
    {
     "name": "stdout",
     "output_type": "stream",
     "text": [
      "Putting into <Queue at 0x110a3e190 maxsize=0 _getters[1] tasks=1>\n"
     ]
    },
    {
     "data": {
      "text/plain": [
       "'Received GET request to /'"
      ]
     },
     "execution_count": 18,
     "metadata": {},
     "output_type": "execute_result"
    },
    {
     "name": "stdout",
     "output_type": "stream",
     "text": [
      "Getting from <AutoProxy[Queue] object, typeid 'Queue' at 0x1109427d0>\n"
     ]
    }
   ],
   "source": [
    "await a_queue.get()"
   ]
  },
  {
   "cell_type": "code",
   "execution_count": 3,
   "metadata": {},
   "outputs": [
    {
     "data": {
      "text/plain": [
       "'Received GET request to /'"
      ]
     },
     "execution_count": 3,
     "metadata": {},
     "output_type": "execute_result"
    }
   ],
   "source": [
    "m_queue.get()"
   ]
  }
 ],
 "metadata": {
  "kernelspec": {
   "display_name": "Python 3",
   "language": "python",
   "name": "python3"
  },
  "language_info": {
   "codemirror_mode": {
    "name": "ipython",
    "version": 3
   },
   "file_extension": ".py",
   "mimetype": "text/x-python",
   "name": "python",
   "nbconvert_exporter": "python",
   "pygments_lexer": "ipython3",
   "version": "3.7.7"
  }
 },
 "nbformat": 4,
 "nbformat_minor": 2
}
